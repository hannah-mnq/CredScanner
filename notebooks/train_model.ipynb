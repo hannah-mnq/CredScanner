{
 "cells": [
  {
   "cell_type": "code",
   "execution_count": null,
   "id": "499d05c0",
   "metadata": {},
   "outputs": [],
   "source": [
    "import pandas as pd\n",
    "import numpy as np\n",
    "from sentence_transformers import SentenceTransformer\n",
    "from sklearn.linear_model import LogisticRegression\n",
    "from sklearn.metrics import classification_report, accuracy_score\n",
    "from sklearn.preprocessing import LabelEncoder\n",
    "from sklearn.model_selection import train_test_split\n",
    "from xgboost import XGBClassifier\n",
    "from tqdm import tqdm\n",
    "import joblib\n",
    "import os \n",
    "import re"
   ]
  },
  {
   "cell_type": "code",
   "execution_count": 10,
   "id": "89377d09",
   "metadata": {},
   "outputs": [
    {
     "data": {
      "text/html": [
       "<div>\n",
       "<style scoped>\n",
       "    .dataframe tbody tr th:only-of-type {\n",
       "        vertical-align: middle;\n",
       "    }\n",
       "\n",
       "    .dataframe tbody tr th {\n",
       "        vertical-align: top;\n",
       "    }\n",
       "\n",
       "    .dataframe thead th {\n",
       "        text-align: right;\n",
       "    }\n",
       "</style>\n",
       "<table border=\"1\" class=\"dataframe\">\n",
       "  <thead>\n",
       "    <tr style=\"text-align: right;\">\n",
       "      <th></th>\n",
       "      <th>title</th>\n",
       "      <th>text</th>\n",
       "      <th>subject</th>\n",
       "      <th>date</th>\n",
       "      <th>label</th>\n",
       "    </tr>\n",
       "  </thead>\n",
       "  <tbody>\n",
       "    <tr>\n",
       "      <th>2649</th>\n",
       "      <td>Majority of people in France now dissatisfied ...</td>\n",
       "      <td>paris reuters  most french voters are now diss...</td>\n",
       "      <td>worldnews</td>\n",
       "      <td>August 26, 2017</td>\n",
       "      <td>REAL</td>\n",
       "    </tr>\n",
       "    <tr>\n",
       "      <th>29808</th>\n",
       "      <td>White SC Cops Sexually Assault Black Couple D...</td>\n",
       "      <td>a video published by the washington post shows...</td>\n",
       "      <td>News</td>\n",
       "      <td>April 2, 2016</td>\n",
       "      <td>FAKE</td>\n",
       "    </tr>\n",
       "    <tr>\n",
       "      <th>29981</th>\n",
       "      <td>Organizers name TV journalists to moderate U.S...</td>\n",
       "      <td>washington reuters  journalists from nbc abc c...</td>\n",
       "      <td>politicsNews</td>\n",
       "      <td>September 2, 2016</td>\n",
       "      <td>REAL</td>\n",
       "    </tr>\n",
       "    <tr>\n",
       "      <th>17278</th>\n",
       "      <td>Brother of Marseille attacker arrested in Ital...</td>\n",
       "      <td>rome reuters  this october 8 story has been re...</td>\n",
       "      <td>worldnews</td>\n",
       "      <td>October 8, 2017</td>\n",
       "      <td>REAL</td>\n",
       "    </tr>\n",
       "    <tr>\n",
       "      <th>21329</th>\n",
       "      <td>Cameroon orders Anglophone region total lockdo...</td>\n",
       "      <td>yaounde reuters  cameroon authorities on frida...</td>\n",
       "      <td>worldnews</td>\n",
       "      <td>September 29, 2017</td>\n",
       "      <td>REAL</td>\n",
       "    </tr>\n",
       "  </tbody>\n",
       "</table>\n",
       "</div>"
      ],
      "text/plain": [
       "                                                   title  \\\n",
       "2649   Majority of people in France now dissatisfied ...   \n",
       "29808   White SC Cops Sexually Assault Black Couple D...   \n",
       "29981  Organizers name TV journalists to moderate U.S...   \n",
       "17278  Brother of Marseille attacker arrested in Ital...   \n",
       "21329  Cameroon orders Anglophone region total lockdo...   \n",
       "\n",
       "                                                    text       subject  \\\n",
       "2649   paris reuters  most french voters are now diss...     worldnews   \n",
       "29808  a video published by the washington post shows...          News   \n",
       "29981  washington reuters  journalists from nbc abc c...  politicsNews   \n",
       "17278  rome reuters  this october 8 story has been re...     worldnews   \n",
       "21329  yaounde reuters  cameroon authorities on frida...     worldnews   \n",
       "\n",
       "                      date label  \n",
       "2649      August 26, 2017   REAL  \n",
       "29808        April 2, 2016  FAKE  \n",
       "29981   September 2, 2016   REAL  \n",
       "17278     October 8, 2017   REAL  \n",
       "21329  September 29, 2017   REAL  "
      ]
     },
     "execution_count": 10,
     "metadata": {},
     "output_type": "execute_result"
    }
   ],
   "source": [
    "# loading cleaned data\n",
    "DATA_FOLDER = \"../data/fake_news/\"\n",
    "full_df = pd.read_csv(DATA_FOLDER + \"clean_fake_news.csv\")\n",
    "\n",
    "train_df,valid_df = train_test_split(full_df, test_size=0.2, stratify=full_df['label'], random_state=42)\n",
    "train_df.head()"
   ]
  },
  {
   "cell_type": "code",
   "execution_count": 11,
   "id": "2cde6d42",
   "metadata": {},
   "outputs": [],
   "source": [
    "\n",
    "# extracting text and validation labels \n",
    "train_texts=train_df['text'].tolist()\n",
    "train_labels = train_df['label'].tolist()\n",
    "\n",
    "\n",
    "val_texts = valid_df['text'].tolist()\n",
    "val_labels = valid_df['label'].tolist()"
   ]
  },
  {
   "cell_type": "code",
   "execution_count": 12,
   "id": "9352fd66",
   "metadata": {},
   "outputs": [
    {
     "name": "stdout",
     "output_type": "stream",
     "text": [
      "Enoded classes:  ['FAKE' 'REAL']\n"
     ]
    }
   ],
   "source": [
    "label_encoder = LabelEncoder()\n",
    "label_encoder.fit(['FAKE','REAL'])\n",
    "train_labels_enc = label_encoder.fit_transform(train_labels)\n",
    "val_labels_enc = label_encoder.transform(val_labels)\n",
    "print(\"Enoded classes: \", label_encoder.classes_)\n",
    "\n",
    "\n",
    "\n"
   ]
  },
  {
   "cell_type": "code",
   "execution_count": null,
   "id": "df64b3da",
   "metadata": {},
   "outputs": [
    {
     "name": "stderr",
     "output_type": "stream",
     "text": [
      "Encoding in batches: 100%|██████████| 965/965 [24:08<00:00,  1.50s/it]\n",
      "Encoding in batches: 100%|██████████| 242/242 [04:46<00:00,  1.18s/it]\n",
      "c:\\Users\\lenovo\\anaconda3\\Lib\\site-packages\\xgboost\\training.py:183: UserWarning: [14:05:50] WARNING: C:\\actions-runner\\_work\\xgboost\\xgboost\\src\\learner.cc:738: \n",
      "Parameters: { \"use_label_encoder\" } are not used.\n",
      "\n",
      "  bst.update(dtrain, iteration=i, fobj=obj)\n"
     ]
    },
    {
     "name": "stdout",
     "output_type": "stream",
     "text": [
      "Validation Accuracy: 0.9424646883503952\n",
      "\n",
      "Classification Report:\n",
      "               precision    recall  f1-score   support\n",
      "\n",
      "        FAKE       0.94      0.94      0.94      3479\n",
      "        REAL       0.95      0.95      0.95      4238\n",
      "\n",
      "    accuracy                           0.94      7717\n",
      "   macro avg       0.94      0.94      0.94      7717\n",
      "weighted avg       0.94      0.94      0.94      7717\n",
      "\n"
     ]
    },
    {
     "data": {
      "text/plain": [
       "['..\\\\src\\\\sbert_model.joblib']"
      ]
     },
     "execution_count": 8,
     "metadata": {},
     "output_type": "execute_result"
    }
   ],
   "source": [
    "sbert_model = SentenceTransformer('all-MiniLM-L6-v2')\n",
    "def encode_in_batches(sentences, model, batch_size=32):\n",
    "    embeddings = []\n",
    "    for i in tqdm(range(0, len(sentences), batch_size), desc=\"Encoding in batches\"):\n",
    "        batch = sentences[i:i+batch_size]\n",
    "        emb = model.encode(batch, show_progress_bar=False)\n",
    "        embeddings.extend(emb)\n",
    "    return np.array(embeddings)\n",
    "\n",
    "X_train = encode_in_batches(train_texts, sbert_model)\n",
    "X_val = encode_in_batches(val_texts, sbert_model)\n",
    "\n",
    "\n",
    "# Train classifier\n",
    "clf = XGBClassifier(use_label_encoder=False, eval_metric='mlogloss')\n",
    "clf.fit(X_train, train_labels_enc)\n",
    "\n",
    "#evaluate\n",
    "val_preds = clf.predict(X_val)\n",
    "acc = accuracy_score(val_labels_enc, val_preds)\n",
    "print(\"Validation Accuracy:\", acc)\n",
    "\n",
    "target_names = [str(cls) for cls in label_encoder.classes_]\n",
    "\n",
    "print(\"\\nClassification Report:\\n\", classification_report(\n",
    "    val_labels_enc, val_preds,\n",
    "    labels=list(range(len(target_names))),\n",
    "    target_names=target_names\n",
    "))\n",
    " \n",
    "\n",
    "\n",
    "# Get the path to the `src/` directory from the notebook\n",
    "save_path = os.path.join(\"..\", \"src\")\n",
    "\n",
    "# Ensure the directory exists\n",
    "os.makedirs(save_path, exist_ok=True)\n",
    "\n",
    "# Save the files to the src/ folder\n",
    "joblib.dump(clf, os.path.join(save_path, \"classifier_model.joblib\"))\n",
    "joblib.dump(label_encoder, os.path.join(save_path, \"label_encoder.joblib\"))\n",
    "joblib.dump(sbert_model, os.path.join(save_path, \"sbert_model.joblib\"))\n"
   ]
  },
  {
   "cell_type": "code",
   "execution_count": null,
   "id": "a9de7c88",
   "metadata": {},
   "outputs": [],
   "source": []
  }
 ],
 "metadata": {
  "kernelspec": {
   "display_name": "base",
   "language": "python",
   "name": "python3"
  },
  "language_info": {
   "codemirror_mode": {
    "name": "ipython",
    "version": 3
   },
   "file_extension": ".py",
   "mimetype": "text/x-python",
   "name": "python",
   "nbconvert_exporter": "python",
   "pygments_lexer": "ipython3",
   "version": "3.12.7"
  }
 },
 "nbformat": 4,
 "nbformat_minor": 5
}
